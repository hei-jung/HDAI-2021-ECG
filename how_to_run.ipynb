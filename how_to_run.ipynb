{
 "cells": [
  {
   "cell_type": "markdown",
   "id": "6af985d2",
   "metadata": {},
   "source": [
    "## requirements\n",
    "\n",
    "- ECGXMLReader.py -> xmltodict\n",
    "\n",
    "```python\n",
    "import xmltodict\n",
    "```\n",
    "\n",
    "- test_modules.py -> matplotlib, sklearn\n",
    "\n",
    "```python\n",
    "import matplotlib.pyplot as plt\n",
    "import sklearn.metrics as metrics\n",
    "from sklearn.metrics import roc_auc_score, average_precision_score, accuracy_score, recall_score, precision_score, \\\n",
    "f1_score\n",
    "```"
   ]
  },
  {
   "cell_type": "code",
   "execution_count": 2,
   "id": "62222de0",
   "metadata": {
    "scrolled": false
   },
   "outputs": [
    {
     "name": "stdout",
     "output_type": "stream",
     "text": [
      "Collecting xmltodict\n",
      "  Downloading xmltodict-0.12.0-py2.py3-none-any.whl (9.2 kB)\n",
      "Installing collected packages: xmltodict\n",
      "Successfully installed xmltodict-0.12.0\n"
     ]
    }
   ],
   "source": [
    "!pip install xmltodict"
   ]
  },
  {
   "cell_type": "code",
   "execution_count": 2,
   "id": "c888197d",
   "metadata": {
    "scrolled": true
   },
   "outputs": [
    {
     "name": "stdout",
     "output_type": "stream",
     "text": [
      "Collecting sklearn\n",
      "  Downloading sklearn-0.0.tar.gz (1.1 kB)\n",
      "  Preparing metadata (setup.py) ... \u001b[?25ldone\n",
      "\u001b[?25hCollecting scikit-learn\n",
      "  Downloading scikit_learn-1.0.1-cp39-cp39-macosx_10_13_x86_64.whl (8.0 MB)\n",
      "     |████████████████████████████████| 8.0 MB 6.7 MB/s            \n",
      "\u001b[?25hCollecting threadpoolctl>=2.0.0\n",
      "  Downloading threadpoolctl-3.0.0-py3-none-any.whl (14 kB)\n",
      "Requirement already satisfied: numpy>=1.14.6 in /Users/heiju/miniconda3/lib/python3.9/site-packages (from scikit-learn->sklearn) (1.20.3)\n",
      "Collecting joblib>=0.11\n",
      "  Downloading joblib-1.1.0-py2.py3-none-any.whl (306 kB)\n",
      "     |████████████████████████████████| 306 kB 16.2 MB/s            \n",
      "\u001b[?25hCollecting scipy>=1.1.0\n",
      "  Downloading scipy-1.7.3-cp39-cp39-macosx_10_9_x86_64.whl (33.2 MB)\n",
      "     |████████████████████████████████| 33.2 MB 8.2 MB/s             \n",
      "\u001b[?25hBuilding wheels for collected packages: sklearn\n",
      "  Building wheel for sklearn (setup.py) ... \u001b[?25ldone\n",
      "\u001b[?25h  Created wheel for sklearn: filename=sklearn-0.0-py2.py3-none-any.whl size=1316 sha256=20c3422881da633f93c08b8a67f728be30cac57da8cdec22797072db7e088525\n",
      "  Stored in directory: /Users/heiju/Library/Caches/pip/wheels/e4/7b/98/b6466d71b8d738a0c547008b9eb39bf8676d1ff6ca4b22af1c\n",
      "Successfully built sklearn\n",
      "Installing collected packages: threadpoolctl, scipy, joblib, scikit-learn, sklearn\n",
      "Successfully installed joblib-1.1.0 scikit-learn-1.0.1 scipy-1.7.3 sklearn-0.0 threadpoolctl-3.0.0\n"
     ]
    }
   ],
   "source": [
    "!pip install sklearn"
   ]
  },
  {
   "cell_type": "code",
   "execution_count": 11,
   "id": "ffcbb4f8",
   "metadata": {},
   "outputs": [
    {
     "data": {
      "text/plain": [
       "device(type='cuda', index=0)"
      ]
     },
     "execution_count": 11,
     "metadata": {},
     "output_type": "execute_result"
    }
   ],
   "source": [
    "device = torch.device('cuda:0' if torch.cuda.is_available() else 'cpu')\n",
    "device"
   ]
  },
  {
   "cell_type": "code",
   "execution_count": 14,
   "id": "6da69b36",
   "metadata": {},
   "outputs": [
    {
     "data": {
      "text/plain": [
       "'3.7.11 (default, Jul 27 2021, 14:32:16) \\n[GCC 7.5.0]'"
      ]
     },
     "execution_count": 14,
     "metadata": {},
     "output_type": "execute_result"
    }
   ],
   "source": [
    "import sys\n",
    "sys.version"
   ]
  },
  {
   "cell_type": "code",
   "execution_count": 9,
   "id": "db072345",
   "metadata": {
    "scrolled": true
   },
   "outputs": [
    {
     "data": {
      "text/plain": [
       "'1.9.0+cu102'"
      ]
     },
     "execution_count": 9,
     "metadata": {},
     "output_type": "execute_result"
    }
   ],
   "source": [
    "import torch\n",
    "torch.__version__"
   ]
  },
  {
   "cell_type": "markdown",
   "id": "bc1e3e1a",
   "metadata": {},
   "source": [
    "## 데이터 전처리 (Data Preprocessing)"
   ]
  },
  {
   "cell_type": "code",
   "execution_count": 1,
   "id": "56a0c22d",
   "metadata": {},
   "outputs": [],
   "source": [
    "from utils.data_preprocess import DataPreprocess"
   ]
  },
  {
   "cell_type": "code",
   "execution_count": 2,
   "id": "9d30643d",
   "metadata": {},
   "outputs": [],
   "source": [
    "train_arr_path = 'electrocardiogram/data/train/arrhythmia/'\n",
    "train_nor_path = 'electrocardiogram/data/train/normal/'"
   ]
  },
  {
   "cell_type": "code",
   "execution_count": 3,
   "id": "aaa810a1",
   "metadata": {},
   "outputs": [],
   "source": [
    "valid_arr_path = 'electrocardiogram/data/validation/arrhythmia/'\n",
    "valid_nor_path = 'electrocardiogram/data/validation/normal/'"
   ]
  },
  {
   "cell_type": "code",
   "execution_count": 4,
   "id": "3e1c1541",
   "metadata": {
    "scrolled": true
   },
   "outputs": [
    {
     "name": "stdout",
     "output_type": "stream",
     "text": [
      "Decoding in process... Done!\n",
      "Saving data as .npy... "
     ]
    },
    {
     "name": "stderr",
     "output_type": "stream",
     "text": [
      "/Users/heiju/miniconda3/lib/python3.9/site-packages/numpy/core/_asarray.py:102: VisibleDeprecationWarning: Creating an ndarray from ragged nested sequences (which is a list-or-tuple of lists-or-tuples-or ndarrays with different lengths or shapes) is deprecated. If you meant to do this, you must specify 'dtype=object' when creating the ndarray.\n",
      "  return array(a, dtype, copy=False, order=order)\n"
     ]
    },
    {
     "name": "stdout",
     "output_type": "stream",
     "text": [
      "Done!\n"
     ]
    },
    {
     "data": {
      "text/plain": [
       "<utils.data_preprocess.DataPreprocess at 0x7fc8f87d8880>"
      ]
     },
     "execution_count": 4,
     "metadata": {},
     "output_type": "execute_result"
    }
   ],
   "source": [
    "# train\n",
    "DataPreprocess(path_arr=train_arr_path, path_nor=train_nor_path, \n",
    "               data_filename='./train_data', label_filename='./train_label',\n",
    "               data_type='train')"
   ]
  },
  {
   "cell_type": "code",
   "execution_count": 5,
   "id": "fcf8e638",
   "metadata": {},
   "outputs": [
    {
     "name": "stdout",
     "output_type": "stream",
     "text": [
      "Decoding in process... Done!\n",
      "Saving data as .npy... Done!\n"
     ]
    },
    {
     "data": {
      "text/plain": [
       "<utils.data_preprocess.DataPreprocess at 0x7fc4e9ab8f40>"
      ]
     },
     "execution_count": 5,
     "metadata": {},
     "output_type": "execute_result"
    }
   ],
   "source": [
    "# validation\n",
    "DataPreprocess(path_arr=valid_arr_path, path_nor=valid_nor_path, \n",
    "               data_filename='./valid_data', label_filename='./valid_label',\n",
    "               data_type='valid')"
   ]
  },
  {
   "cell_type": "code",
   "execution_count": null,
   "id": "a35feab5",
   "metadata": {},
   "outputs": [],
   "source": [
    "# test\n",
    "DataPreprocess(path_arr=test_arr_path, path_nor=test_nor_path, \n",
    "               data_filename='./test_data', label_filename='./test_label')"
   ]
  },
  {
   "cell_type": "code",
   "execution_count": 6,
   "id": "049fc091",
   "metadata": {},
   "outputs": [],
   "source": [
    "import numpy as np\n",
    "train_data = np.load('./train_data.npy', allow_pickle=True)\n",
    "train_label = np.load('./train_label.npy', allow_pickle=True)\n",
    "valid_data = np.load('./valid_data.npy', allow_pickle=True)\n",
    "valid_label = np.load('./valid_label.npy', allow_pickle=True)"
   ]
  },
  {
   "cell_type": "code",
   "execution_count": 8,
   "id": "63d29c39",
   "metadata": {},
   "outputs": [
    {
     "data": {
      "text/plain": [
       "(38836, 38836, 4859, 4859)"
      ]
     },
     "execution_count": 8,
     "metadata": {},
     "output_type": "execute_result"
    }
   ],
   "source": [
    "len(train_data), len(train_label), len(valid_data), len(valid_label)"
   ]
  },
  {
   "cell_type": "markdown",
   "id": "468955d6",
   "metadata": {},
   "source": [
    "## 학습 (Training)"
   ]
  },
  {
   "cell_type": "code",
   "execution_count": 1,
   "id": "aeaf32d1",
   "metadata": {},
   "outputs": [],
   "source": [
    "from train import Train\n",
    "from models.resnet import resnet34\n",
    "from models.ecg_dnn import dnn"
   ]
  },
  {
   "cell_type": "code",
   "execution_count": 2,
   "id": "97ca8154",
   "metadata": {},
   "outputs": [],
   "source": [
    "import warnings\n",
    "\n",
    "warnings.filterwarnings(\"ignore\")"
   ]
  },
  {
   "cell_type": "code",
   "execution_count": 3,
   "id": "ff3e54f3",
   "metadata": {},
   "outputs": [],
   "source": [
    "model = dnn()"
   ]
  },
  {
   "cell_type": "code",
   "execution_count": 4,
   "id": "2cb2941e",
   "metadata": {},
   "outputs": [],
   "source": [
    "n_epoch_list = list(range(5, 11))\n",
    "batch_size_list = [16, 32, 64]\n",
    "lr_list = [0.01, 0.001, 0.0001]"
   ]
  },
  {
   "cell_type": "code",
   "execution_count": 5,
   "id": "071d14e1",
   "metadata": {
    "scrolled": true
   },
   "outputs": [
    {
     "data": {
      "text/plain": [
       "[5, 6, 7, 8, 9, 10]"
      ]
     },
     "execution_count": 5,
     "metadata": {},
     "output_type": "execute_result"
    }
   ],
   "source": [
    "n_epoch_list"
   ]
  },
  {
   "cell_type": "code",
   "execution_count": 6,
   "id": "0ba44024",
   "metadata": {},
   "outputs": [],
   "source": [
    "config_dict = {'n_epoch': 3, 'batch_size': 64, 'lr': 0.001,}"
   ]
  },
  {
   "cell_type": "code",
   "execution_count": 7,
   "id": "fc19415b",
   "metadata": {},
   "outputs": [],
   "source": [
    "train = Train(model, config_dict)  # 초기화"
   ]
  },
  {
   "cell_type": "code",
   "execution_count": 8,
   "id": "8345fc24",
   "metadata": {
    "scrolled": true
   },
   "outputs": [
    {
     "name": "stdout",
     "output_type": "stream",
     "text": [
      "Train Epoch 1 start!\n",
      "[Train] loss: 0.368\n",
      "[Test]  loss: 0.726\n",
      "\n",
      "Area Under the Curve(AUC):  0.5064638783269961\n",
      "Average Precision:  0.46196891191709843\n",
      "0.46573369005968307\n",
      "1.0\n",
      "0.46196891191709843\n",
      "0.6319818542670825\n",
      "\n",
      "Train Epoch 2 start!\n",
      "[Train] loss: 0.149\n",
      "[Test]  loss: 0.643\n",
      "\n",
      "Area Under the Curve(AUC):  0.6710521692109029\n",
      "Average Precision:  0.5646705242823054\n",
      "0.6493105577279276\n",
      "0.9344997756841633\n",
      "0.5720955781378743\n",
      "0.7097103918228279\n",
      "\n",
      "Train Epoch 3 start!\n",
      "[Train] loss: 0.132\n",
      "[Test]  loss: 0.652\n",
      "\n",
      "Area Under the Curve(AUC):  0.6064567991580054\n",
      "Average Precision:  0.5185873556239715\n",
      "0.5750154352747479\n",
      "0.987438313144908\n",
      "0.5193487494100991\n",
      "0.6806865625483223\n",
      "\n",
      "190403.484375 ms\n"
     ]
    },
    {
     "data": {
      "text/plain": [
       "DNN(\n",
       "  (conv): Conv1d(12, 64, kernel_size=(16,), stride=(1,), padding=same, bias=False)\n",
       "  (bn): BatchNorm1d(64, eps=0.001, momentum=0.99, affine=True, track_running_stats=True)\n",
       "  (relu): ReLU()\n",
       "  (res_blk1): ResidualBlock(\n",
       "    (relu): ReLU(inplace=True)\n",
       "    (conv_skip): Conv1d(64, 128, kernel_size=(1,), stride=(1,), padding=same, bias=False)\n",
       "    (conv_1): Conv1d(64, 128, kernel_size=(17,), stride=(1,), padding=same, bias=False)\n",
       "    (conv_2): Conv1d(128, 128, kernel_size=(17,), stride=4, padding=(7,), bias=False)\n",
       "    (bn_act): Sequential(\n",
       "      (0): BatchNorm1d(128, eps=0.001, momentum=0.99, affine=False, track_running_stats=True)\n",
       "      (1): ReLU(inplace=True)\n",
       "    )\n",
       "    (dropout): Dropout(p=0.19999999999999996, inplace=False)\n",
       "  )\n",
       "  (res_blk2): ResidualBlock(\n",
       "    (relu): ReLU(inplace=True)\n",
       "    (conv_skip): Conv1d(128, 196, kernel_size=(1,), stride=(1,), padding=same, bias=False)\n",
       "    (conv_1): Conv1d(128, 196, kernel_size=(17,), stride=(1,), padding=same, bias=False)\n",
       "    (conv_2): Conv1d(196, 196, kernel_size=(17,), stride=4, padding=(7,), bias=False)\n",
       "    (bn_act): Sequential(\n",
       "      (0): BatchNorm1d(196, eps=0.001, momentum=0.99, affine=False, track_running_stats=True)\n",
       "      (1): ReLU(inplace=True)\n",
       "    )\n",
       "    (dropout): Dropout(p=0.19999999999999996, inplace=False)\n",
       "  )\n",
       "  (res_blk3): ResidualBlock(\n",
       "    (relu): ReLU(inplace=True)\n",
       "    (conv_skip): Conv1d(196, 256, kernel_size=(1,), stride=(1,), padding=same, bias=False)\n",
       "    (conv_1): Conv1d(196, 256, kernel_size=(17,), stride=(1,), padding=same, bias=False)\n",
       "    (conv_2): Conv1d(256, 256, kernel_size=(17,), stride=4, padding=(7,), bias=False)\n",
       "    (bn_act): Sequential(\n",
       "      (0): BatchNorm1d(256, eps=0.001, momentum=0.99, affine=False, track_running_stats=True)\n",
       "      (1): ReLU(inplace=True)\n",
       "    )\n",
       "    (dropout): Dropout(p=0.19999999999999996, inplace=False)\n",
       "  )\n",
       "  (fc): Linear(in_features=16384, out_features=1, bias=True)\n",
       "  (sigmoid): Sigmoid()\n",
       ")"
      ]
     },
     "execution_count": 8,
     "metadata": {},
     "output_type": "execute_result"
    }
   ],
   "source": [
    "train.train_model()"
   ]
  },
  {
   "cell_type": "code",
   "execution_count": null,
   "id": "8bca3d71",
   "metadata": {
    "scrolled": false
   },
   "outputs": [],
   "source": [
    "!wandb login"
   ]
  },
  {
   "cell_type": "code",
   "execution_count": null,
   "id": "db531b0f",
   "metadata": {
    "scrolled": true
   },
   "outputs": [],
   "source": [
    "from model.ecg_dnn import dnn\n",
    "from train_wandb import Train as MonitorTraining\n",
    "\n",
    "model = dnn()\n",
    "config_dict = {'n_epoch': 100, 'batch_size': 64, 'lr': 0.001,}\n",
    "train_monitor = MonitorTraining(model, config_dict)\n",
    "trained_model = train_monitor.train_model()"
   ]
  },
  {
   "cell_type": "markdown",
   "id": "9942854b",
   "metadata": {},
   "source": [
    "## 검증 (Validation/Test)"
   ]
  },
  {
   "cell_type": "code",
   "execution_count": 18,
   "id": "087e90f1",
   "metadata": {},
   "outputs": [],
   "source": [
    "from test_modules import predict, print_scores, plot_roc_curve"
   ]
  },
  {
   "cell_type": "code",
   "execution_count": 19,
   "id": "4436e7b6",
   "metadata": {},
   "outputs": [],
   "source": [
    "import torch"
   ]
  },
  {
   "cell_type": "code",
   "execution_count": 20,
   "id": "c8e7ed68",
   "metadata": {},
   "outputs": [],
   "source": [
    "from models.resnet import resnet34"
   ]
  },
  {
   "cell_type": "code",
   "execution_count": 21,
   "id": "2114b5f0",
   "metadata": {},
   "outputs": [],
   "source": [
    "model = resnet34()"
   ]
  },
  {
   "cell_type": "code",
   "execution_count": 22,
   "id": "79cce62a",
   "metadata": {},
   "outputs": [
    {
     "data": {
      "text/plain": [
       "<All keys matched successfully>"
      ]
     },
     "execution_count": 22,
     "metadata": {},
     "output_type": "execute_result"
    }
   ],
   "source": [
    "model.load_state_dict(torch.load('./weights/epoch_45_model_trial_2', map_location=torch.device('cpu')))"
   ]
  },
  {
   "cell_type": "code",
   "execution_count": null,
   "id": "8924b4cd",
   "metadata": {
    "scrolled": true
   },
   "outputs": [],
   "source": [
    "y_target, y_predicted = predict(model, data_path='./valid_data.npy', label_path='./valid_label.npy')"
   ]
  },
  {
   "cell_type": "code",
   "execution_count": null,
   "id": "5f719979",
   "metadata": {},
   "outputs": [],
   "source": [
    "print_scores(y_target, y_predicted)"
   ]
  },
  {
   "cell_type": "code",
   "execution_count": null,
   "id": "7fe166e0",
   "metadata": {
    "scrolled": true
   },
   "outputs": [],
   "source": [
    "plot_roc_curve(y_target, y_predicted, guideline=False, save_png=True)"
   ]
  },
  {
   "cell_type": "code",
   "execution_count": null,
   "id": "139ae2eb",
   "metadata": {
    "scrolled": true
   },
   "outputs": [],
   "source": [
    "plot_roc_curve(y_target, y_predicted, guideline=True, save_png=True)"
   ]
  }
 ],
 "metadata": {
  "kernelspec": {
   "display_name": "Python 3 (ipykernel)",
   "language": "python",
   "name": "python3"
  },
  "language_info": {
   "codemirror_mode": {
    "name": "ipython",
    "version": 3
   },
   "file_extension": ".py",
   "mimetype": "text/x-python",
   "name": "python",
   "nbconvert_exporter": "python",
   "pygments_lexer": "ipython3",
   "version": "3.9.5"
  }
 },
 "nbformat": 4,
 "nbformat_minor": 5
}
